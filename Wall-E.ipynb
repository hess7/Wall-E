{
 "cells": [
  {
   "cell_type": "code",
   "execution_count": 71,
   "metadata": {},
   "outputs": [],
   "source": [
    "import numpy as np\n",
    "\n",
    "earth2893 =np.array( [[1, 4, 3, 2, 9],[0, 0, 6, 0, 7],[8, 9, 0, 1 , 9],[3, 1, 0, 5, 8]])"
   ]
  },
  {
   "cell_type": "code",
   "execution_count": 72,
   "metadata": {},
   "outputs": [
    {
     "name": "stdout",
     "output_type": "stream",
     "text": [
      "[[1 4 3 2 9]\n",
      " [0 0 6 0 7]\n",
      " [8 9 0 1 9]\n",
      " [3 1 0 5 8]]\n"
     ]
    }
   ],
   "source": [
    "print(earth2893)"
   ]
  },
  {
   "cell_type": "code",
   "execution_count": null,
   "metadata": {},
   "outputs": [],
   "source": []
  },
  {
   "cell_type": "code",
   "execution_count": 73,
   "metadata": {},
   "outputs": [],
   "source": [
    "\n",
    "\n",
    "def label_to_coords(label):\n",
    "    x = (label - 1) % dimension\n",
    "    y = (label - 1 - x) // dimension\n",
    "    return x, y\n",
    "\n",
    "def coords_to_label(x, y):\n",
    "    return x + dimension * y + 1\n",
    "\n",
    "\n",
    "def get_ind(given_index):\n",
    "    result = []\n",
    "    x, y = label_to_coords(given_index)\n",
    "    for delta_x in range(-1, 2):\n",
    "        for delta_y in range(-1, 2):\n",
    "            if not (delta_x == delta_y == 0):\n",
    "                new_x = x + delta_x\n",
    "                new_y = y + delta_y\n",
    "                if (0 <= new_x < dimension) and (0 <= new_y < dimension):\n",
    "                    result.append(coords_to_label(new_x, new_y))\n",
    "    return result\n",
    "\n"
   ]
  },
  {
   "cell_type": "code",
   "execution_count": 74,
   "metadata": {},
   "outputs": [],
   "source": [
    "#label_to_coords(earth2893)"
   ]
  },
  {
   "cell_type": "code",
   "execution_count": 75,
   "metadata": {},
   "outputs": [],
   "source": [
    "def explore(self):\n",
    "    for i in self:\n",
    "        dimension=len(i)\n",
    "        i.sort()\n",
    "        i=i[::-1]\n",
    "        print(\"Cell = \", i)\n",
    "        print(\"Start =\", (i[0]))\n",
    "       \n",
    "        for a in range(0,len(i)-1) :\n",
    "            print(\"Collect =\", (i[a]), \"plants\")\n",
    "            print(\"Looks at :\", get_ind(i[a]))\n",
    "            if  (a < len(i) ):\n",
    "                print(\"Moves to :\", i[a+1])\n",
    "            \n",
    "    return(\"Wait for Mama\")"
   ]
  },
  {
   "cell_type": "code",
   "execution_count": 76,
   "metadata": {},
   "outputs": [
    {
     "name": "stdout",
     "output_type": "stream",
     "text": [
      "Cell =  [9 4 3 2 1]\n",
      "Start = 9\n",
      "Collect = 9 plants\n",
      "Looks at : [5, 13, 6, 10, 14]\n",
      "Moves to : 4\n",
      "Collect = 4 plants\n",
      "Looks at : [3, 7, 8]\n",
      "Moves to : 3\n",
      "Collect = 3 plants\n",
      "Looks at : [2, 6, 7, 4, 8]\n",
      "Moves to : 2\n",
      "Collect = 2 plants\n",
      "Looks at : [1, 5, 6, 3, 7]\n",
      "Moves to : 1\n",
      "Cell =  [7 6 0 0 0]\n",
      "Start = 7\n",
      "Collect = 7 plants\n",
      "Looks at : [2, 6, 10, 3, 11, 4, 8, 12]\n",
      "Moves to : 6\n",
      "Collect = 6 plants\n",
      "Looks at : [1, 5, 9, 2, 10, 3, 7, 11]\n",
      "Moves to : 0\n",
      "Collect = 0 plants\n",
      "Looks at : [3, 4]\n",
      "Moves to : 0\n",
      "Collect = 0 plants\n",
      "Looks at : [3, 4]\n",
      "Moves to : 0\n",
      "Cell =  [9 9 8 1 0]\n",
      "Start = 9\n",
      "Collect = 9 plants\n",
      "Looks at : [5, 13, 6, 10, 14]\n",
      "Moves to : 9\n",
      "Collect = 9 plants\n",
      "Looks at : [5, 13, 6, 10, 14]\n",
      "Moves to : 8\n",
      "Collect = 8 plants\n",
      "Looks at : [3, 7, 11, 4, 12]\n",
      "Moves to : 1\n",
      "Collect = 1 plants\n",
      "Looks at : [5, 2, 6]\n",
      "Moves to : 0\n",
      "Cell =  [8 5 3 1 0]\n",
      "Start = 8\n",
      "Collect = 8 plants\n",
      "Looks at : [3, 7, 11, 4, 12]\n",
      "Moves to : 5\n",
      "Collect = 5 plants\n",
      "Looks at : [1, 9, 2, 6, 10]\n",
      "Moves to : 3\n",
      "Collect = 3 plants\n",
      "Looks at : [2, 6, 7, 4, 8]\n",
      "Moves to : 1\n",
      "Collect = 1 plants\n",
      "Looks at : [5, 2, 6]\n",
      "Moves to : 0\n"
     ]
    },
    {
     "data": {
      "text/plain": [
       "'Wait for Mama'"
      ]
     },
     "execution_count": 76,
     "metadata": {},
     "output_type": "execute_result"
    }
   ],
   "source": [
    "#dimension=len(earth2893)\n",
    "explore(earth2893)"
   ]
  },
  {
   "cell_type": "code",
   "execution_count": 77,
   "metadata": {},
   "outputs": [
    {
     "name": "stdout",
     "output_type": "stream",
     "text": [
      "[9 4 3 2 1]\n",
      "19\n",
      "[7 6 0 0 0]\n",
      "13\n",
      "[9 9 8 1 0]\n",
      "27\n",
      "[8 5 3 1 0]\n",
      "17\n"
     ]
    }
   ],
   "source": []
  },
  {
   "cell_type": "code",
   "execution_count": null,
   "metadata": {},
   "outputs": [],
   "source": []
  }
 ],
 "metadata": {
  "kernelspec": {
   "display_name": "Python 3",
   "language": "python",
   "name": "python3"
  },
  "language_info": {
   "codemirror_mode": {
    "name": "ipython",
    "version": 3
   },
   "file_extension": ".py",
   "mimetype": "text/x-python",
   "name": "python",
   "nbconvert_exporter": "python",
   "pygments_lexer": "ipython3",
   "version": "3.8.3"
  }
 },
 "nbformat": 4,
 "nbformat_minor": 4
}
